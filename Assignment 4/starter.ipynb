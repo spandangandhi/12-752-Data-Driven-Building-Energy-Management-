{
 "cells": [
  {
   "cell_type": "markdown",
   "metadata": {},
   "source": [
    "Task #1 [10%]: If following this procedure you were to create an HMM for 22 two-state\n",
    "appliances, how much memory would your computer need if you wanted to \f",
    "t the state-transition\n",
    "probability matrix into main memory with 4 byte precision (i.e., each value in the transition\n",
    "matrix would require 4 bytes of memory)?"
   ]
  },
  {
   "cell_type": "markdown",
   "metadata": {},
   "source": [
    "Answer: \n",
    "There are two states for each of the 22 appliances.\n",
    "thus total values in matrix will be 2^22.\n",
    "Each value requires 4 bytes.\n",
    "Thus total memeory required is 4*(2^22)\n",
    "1 kB = 1024 bytes and 1MB = 1024 kB\n",
    "therefore, total memory required = 4*(2^22)/(1024*1024)\n",
    "                                 = 16 MB\n",
    "\n",
    "Thus a total memory of 16 MB would be reuired."
   ]
  },
  {
   "cell_type": "markdown",
   "metadata": {},
   "source": [
    "Task #2 [20%]: Sample (xt; zt) \u0018 p(x; z) with a length of 100, i.e., t 2 1; 2; : : : ; 100"
   ]
  },
  {
   "cell_type": "code",
   "execution_count": 34,
   "metadata": {},
   "outputs": [
    {
     "name": "stdout",
     "output_type": "stream",
     "text": [
      "['0,0'] [0.8581249541408598]\n"
     ]
    }
   ],
   "source": [
    "import numpy as np\n",
    "import matplotlib.pyplot as plt\n",
    "%matplotlib inline\n",
    "\n",
    "map1 = {'0,0':0, '1,0':1, '0,1':2, '1,1':3}\n",
    "map2 = {0:'0,0', 1:'1,0', 2:'0,1', 3:'1,1'}\n",
    "states = ['0,0', '1,0', '0,1', '1,1']\n",
    "\n",
    "mu = {'0,0':1, '1,0':50, '0,1':55, '1,1':105}\n",
    "sigma = {'0,0':0.1, '1,0':5.1, '0,1':6.1, '1,1':11.1}\n",
    "\n",
    "trans_prob = [[0.8, 0.19, 0.01, 0], [0.22, 0.6, 0, 0.18], [0.1, 0, 0.7, 0.2], [0, 0.13,0.5, 0.37]]\n",
    "initial_prob = [0.25, 0.25, 0.25, 0.25]\n",
    "\n",
    "'''\n",
    "The map function makes accessing the trans_prob's easy:\n",
    "\n",
    "Let's say you want p(z_t = (1,1) | z_t-1 = (0,1))\n",
    "This is just:\n",
    "\n",
    "trans_prob[map1['0,1']][map1['1,1']]\n",
    "'''\n",
    "\n",
    "#This is how you would sample the initial state\n",
    "z = []\n",
    "z.append(np.random.choice(states, p = initial_prob))\n",
    "\n",
    "x = [np.random.normal(mu[z[-1]], sigma[z[-1]])]\n",
    "\n",
    "print(z,x)"
   ]
  },
  {
   "cell_type": "code",
   "execution_count": 36,
   "metadata": {},
   "outputs": [
    {
     "name": "stdout",
     "output_type": "stream",
     "text": [
      "(-10.126631103850336, array([1, 1, 1, 1]))\n"
     ]
    }
   ],
   "source": [
    "import numpy as np\n",
    "from hmmlearn import hmm\n",
    "\n",
    "model = hmm.MultinomialHMM(n_components=3)\n",
    "model.startprob_ = np.array([0.3, 0.4, 0.3])\n",
    "model.transmat_ = np.array([[0.2, 0.6, 0.2],\n",
    "                            [0.4, 0.0, 0.6],\n",
    "                            [0.1, 0.2, 0.7]])\n",
    "model.emissionprob_ = np.array([[0.2, 0.1, 0.1, 0.1, 0.1, 0.1, 0.1, 0.1, 0.1],\n",
    "                                [0.1, 0.1, 0.1, 0.1, 0.2, 0.1, 0.1, 0.1, 0.1],\n",
    "                                [0.1, 0.1, 0.1, 0.1, 0.1, 0.1, 0.1, 0.1, 0.2]])\n",
    "\n",
    "# Predict the optimal sequence of internal hidden state\n",
    "X = np.atleast_2d([0,1,2,3]).T\n",
    "print(model.decode(X))"
   ]
  },
  {
   "cell_type": "code",
   "execution_count": 38,
   "metadata": {},
   "outputs": [],
   "source": [
    "model = hmm.GMMHMM(n_components=4, n_iter=100, init_params=\"smt\")"
   ]
  },
  {
   "cell_type": "code",
   "execution_count": null,
   "metadata": {
    "collapsed": true
   },
   "outputs": [],
   "source": []
  }
 ],
 "metadata": {
  "kernelspec": {
   "display_name": "Python 3",
   "language": "python",
   "name": "python3"
  },
  "language_info": {
   "codemirror_mode": {
    "name": "ipython",
    "version": 3
   },
   "file_extension": ".py",
   "mimetype": "text/x-python",
   "name": "python",
   "nbconvert_exporter": "python",
   "pygments_lexer": "ipython3",
   "version": "3.6.3"
  }
 },
 "nbformat": 4,
 "nbformat_minor": 2
}
